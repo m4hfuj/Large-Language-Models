{
 "cells": [
  {
   "cell_type": "code",
   "execution_count": 37,
   "id": "ba675435-fd5a-4d2c-834c-6f6e67c48f56",
   "metadata": {},
   "outputs": [],
   "source": [
    "# !pip install -q accelerate -U\n",
    "# !pip install -q bitsandbytes -U\n",
    "# !pip install -q trl -U\n",
    "# !pip install -q peft -U\n",
    "# !pip install -q transformers -U\n",
    "# !pip install -q datasets -U"
   ]
  },
  {
   "cell_type": "markdown",
   "id": "a203321d-ef1f-453c-9a71-2b8ea685fb79",
   "metadata": {},
   "source": [
    "## Data Preparation\n",
    "Loading and preprocessing the medical dataset to ensure the data is clean and ready for training."
   ]
  },
  {
   "cell_type": "code",
   "execution_count": 38,
   "id": "6e07ad97-01b4-425a-b42b-0d8bf3cf843c",
   "metadata": {},
   "outputs": [],
   "source": [
    "import pandas as pd\n",
    "from datasets import load_dataset, Dataset, DatasetDict\n",
    "\n",
    "df = pd.read_csv(\"hf://datasets/MattBastar/Medicine_Details/Medicine_Details.csv\")\n",
    "df = df.dropna()"
   ]
  },
  {
   "cell_type": "code",
   "execution_count": 39,
   "id": "94d5aaaf-8eaa-4fa5-8fa1-37d59f4a4ec1",
   "metadata": {},
   "outputs": [
    {
     "data": {
      "text/html": [
       "<div>\n",
       "<style scoped>\n",
       "    .dataframe tbody tr th:only-of-type {\n",
       "        vertical-align: middle;\n",
       "    }\n",
       "\n",
       "    .dataframe tbody tr th {\n",
       "        vertical-align: top;\n",
       "    }\n",
       "\n",
       "    .dataframe thead th {\n",
       "        text-align: right;\n",
       "    }\n",
       "</style>\n",
       "<table border=\"1\" class=\"dataframe\">\n",
       "  <thead>\n",
       "    <tr style=\"text-align: right;\">\n",
       "      <th></th>\n",
       "      <th>Medicine Name</th>\n",
       "      <th>Composition</th>\n",
       "      <th>Uses</th>\n",
       "      <th>Side_effects</th>\n",
       "      <th>Image URL</th>\n",
       "      <th>Manufacturer</th>\n",
       "      <th>Excellent Review %</th>\n",
       "      <th>Average Review %</th>\n",
       "      <th>Poor Review %</th>\n",
       "    </tr>\n",
       "  </thead>\n",
       "  <tbody>\n",
       "    <tr>\n",
       "      <th>0</th>\n",
       "      <td>Avastin 400mg Injection</td>\n",
       "      <td>Bevacizumab (400mg)</td>\n",
       "      <td>Cancer of colon and rectum Non-small cell lun...</td>\n",
       "      <td>Rectal bleeding Taste change Headache Noseblee...</td>\n",
       "      <td>https://onemg.gumlet.io/l_watermark_346,w_480,...</td>\n",
       "      <td>Roche Products India Pvt Ltd</td>\n",
       "      <td>22</td>\n",
       "      <td>56</td>\n",
       "      <td>22</td>\n",
       "    </tr>\n",
       "    <tr>\n",
       "      <th>1</th>\n",
       "      <td>Augmentin 625 Duo Tablet</td>\n",
       "      <td>Amoxycillin  (500mg) +  Clavulanic Acid (125mg)</td>\n",
       "      <td>Treatment of Bacterial infections</td>\n",
       "      <td>Vomiting Nausea Diarrhea Mucocutaneous candidi...</td>\n",
       "      <td>https://onemg.gumlet.io/l_watermark_346,w_480,...</td>\n",
       "      <td>Glaxo SmithKline Pharmaceuticals Ltd</td>\n",
       "      <td>47</td>\n",
       "      <td>35</td>\n",
       "      <td>18</td>\n",
       "    </tr>\n",
       "    <tr>\n",
       "      <th>2</th>\n",
       "      <td>Azithral 500 Tablet</td>\n",
       "      <td>Azithromycin (500mg)</td>\n",
       "      <td>Treatment of Bacterial infections</td>\n",
       "      <td>Nausea Abdominal pain Diarrhea</td>\n",
       "      <td>https://onemg.gumlet.io/l_watermark_346,w_480,...</td>\n",
       "      <td>Alembic Pharmaceuticals Ltd</td>\n",
       "      <td>39</td>\n",
       "      <td>40</td>\n",
       "      <td>21</td>\n",
       "    </tr>\n",
       "    <tr>\n",
       "      <th>3</th>\n",
       "      <td>Ascoril LS Syrup</td>\n",
       "      <td>Ambroxol (30mg/5ml) + Levosalbutamol (1mg/5ml)...</td>\n",
       "      <td>Treatment of Cough with mucus</td>\n",
       "      <td>Nausea Vomiting Diarrhea Upset stomach Stomach...</td>\n",
       "      <td>https://onemg.gumlet.io/l_watermark_346,w_480,...</td>\n",
       "      <td>Glenmark Pharmaceuticals Ltd</td>\n",
       "      <td>24</td>\n",
       "      <td>41</td>\n",
       "      <td>35</td>\n",
       "    </tr>\n",
       "    <tr>\n",
       "      <th>4</th>\n",
       "      <td>Aciloc 150 Tablet</td>\n",
       "      <td>Ranitidine (150mg)</td>\n",
       "      <td>Treatment of Gastroesophageal reflux disease (...</td>\n",
       "      <td>Headache Diarrhea Gastrointestinal disturbance</td>\n",
       "      <td>https://onemg.gumlet.io/l_watermark_346,w_480,...</td>\n",
       "      <td>Cadila Pharmaceuticals Ltd</td>\n",
       "      <td>34</td>\n",
       "      <td>37</td>\n",
       "      <td>29</td>\n",
       "    </tr>\n",
       "  </tbody>\n",
       "</table>\n",
       "</div>"
      ],
      "text/plain": [
       "              Medicine Name  \\\n",
       "0   Avastin 400mg Injection   \n",
       "1  Augmentin 625 Duo Tablet   \n",
       "2       Azithral 500 Tablet   \n",
       "3          Ascoril LS Syrup   \n",
       "4         Aciloc 150 Tablet   \n",
       "\n",
       "                                         Composition  \\\n",
       "0                                Bevacizumab (400mg)   \n",
       "1    Amoxycillin  (500mg) +  Clavulanic Acid (125mg)   \n",
       "2                               Azithromycin (500mg)   \n",
       "3  Ambroxol (30mg/5ml) + Levosalbutamol (1mg/5ml)...   \n",
       "4                                 Ranitidine (150mg)   \n",
       "\n",
       "                                                Uses  \\\n",
       "0   Cancer of colon and rectum Non-small cell lun...   \n",
       "1                  Treatment of Bacterial infections   \n",
       "2                  Treatment of Bacterial infections   \n",
       "3                      Treatment of Cough with mucus   \n",
       "4  Treatment of Gastroesophageal reflux disease (...   \n",
       "\n",
       "                                        Side_effects  \\\n",
       "0  Rectal bleeding Taste change Headache Noseblee...   \n",
       "1  Vomiting Nausea Diarrhea Mucocutaneous candidi...   \n",
       "2                     Nausea Abdominal pain Diarrhea   \n",
       "3  Nausea Vomiting Diarrhea Upset stomach Stomach...   \n",
       "4     Headache Diarrhea Gastrointestinal disturbance   \n",
       "\n",
       "                                           Image URL  \\\n",
       "0  https://onemg.gumlet.io/l_watermark_346,w_480,...   \n",
       "1  https://onemg.gumlet.io/l_watermark_346,w_480,...   \n",
       "2  https://onemg.gumlet.io/l_watermark_346,w_480,...   \n",
       "3  https://onemg.gumlet.io/l_watermark_346,w_480,...   \n",
       "4  https://onemg.gumlet.io/l_watermark_346,w_480,...   \n",
       "\n",
       "                           Manufacturer  Excellent Review %  Average Review %  \\\n",
       "0          Roche Products India Pvt Ltd                  22                56   \n",
       "1  Glaxo SmithKline Pharmaceuticals Ltd                  47                35   \n",
       "2           Alembic Pharmaceuticals Ltd                  39                40   \n",
       "3          Glenmark Pharmaceuticals Ltd                  24                41   \n",
       "4            Cadila Pharmaceuticals Ltd                  34                37   \n",
       "\n",
       "   Poor Review %  \n",
       "0             22  \n",
       "1             18  \n",
       "2             21  \n",
       "3             35  \n",
       "4             29  "
      ]
     },
     "execution_count": 39,
     "metadata": {},
     "output_type": "execute_result"
    }
   ],
   "source": [
    "df.head()"
   ]
  },
  {
   "cell_type": "code",
   "execution_count": 40,
   "id": "a01bee92-b3ad-46f4-9355-5b5ecb2d4759",
   "metadata": {},
   "outputs": [
    {
     "data": {
      "text/plain": [
       "Uses\n",
       "Treatment of Type 2 diabetes mellitus                                                   907\n",
       "Treatment of Bacterial infections                                                       439\n",
       " Hypertension (high blood pressure)                                                     405\n",
       " Pain relief                                                                            385\n",
       "Treatment of Hypertension (high blood pressure)                                         279\n",
       "                                                                                       ... \n",
       "Treatment of Hypertensive emergency                                                       1\n",
       " Eye infectionTreatment of Inflammatory conditionsTreatment of Autoimmune conditions      1\n",
       " Inflammation of gums Mouth ulcers Mouth infection                                        1\n",
       "Treatment of Inflammation of gums Local anesthesia (Numb tissues in a specific area)      1\n",
       " Blood cancer (Acute lymphocytic leukemia)                                                1\n",
       "Name: count, Length: 712, dtype: int64"
      ]
     },
     "execution_count": 40,
     "metadata": {},
     "output_type": "execute_result"
    }
   ],
   "source": [
    "df[\"Uses\"].value_counts()"
   ]
  },
  {
   "cell_type": "code",
   "execution_count": 7,
   "id": "b91e42bf-449c-4a42-bb50-1e45541f1032",
   "metadata": {},
   "outputs": [],
   "source": [
    "df['text'] = \"\\nMedicine Name: \" + df[\"Medicine Name\"] + \"\\nManufacturer: \" + df[\"Manufacturer\"] + \"\\nUses: \" + df[\"Uses\"] + \"\\nSide_effects: \" + df[\"Side_effects\"]"
   ]
  },
  {
   "cell_type": "code",
   "execution_count": 8,
   "id": "3beb8fe2-4dcf-441b-8bc3-0595e92eae0d",
   "metadata": {},
   "outputs": [
    {
     "name": "stdout",
     "output_type": "stream",
     "text": [
      "\n",
      "Medicine Name: Avastin 400mg Injection\n",
      "Manufacturer: Roche Products India Pvt Ltd\n",
      "Uses:  Cancer of colon and rectum Non-small cell lung cancer Kidney cancer Brain tumor Ovarian cancer Cervical cancer\n",
      "Side_effects: Rectal bleeding Taste change Headache Nosebleeds Back pain Dry skin High blood pressure Protein in urine Inflammation of the nose\n"
     ]
    }
   ],
   "source": [
    "print(df['text'][0])"
   ]
  },
  {
   "cell_type": "code",
   "execution_count": 9,
   "id": "220c4458-a4ff-4f2a-95ea-0c7a5902ca12",
   "metadata": {},
   "outputs": [],
   "source": [
    "df = df[['Uses', 'text']]\n",
    "df = df.rename(columns={'Uses': 'usecase'})"
   ]
  },
  {
   "cell_type": "code",
   "execution_count": 10,
   "id": "0aebe309-946d-4a8a-ad8b-63088cfffe1d",
   "metadata": {},
   "outputs": [
    {
     "data": {
      "text/html": [
       "<div>\n",
       "<style scoped>\n",
       "    .dataframe tbody tr th:only-of-type {\n",
       "        vertical-align: middle;\n",
       "    }\n",
       "\n",
       "    .dataframe tbody tr th {\n",
       "        vertical-align: top;\n",
       "    }\n",
       "\n",
       "    .dataframe thead th {\n",
       "        text-align: right;\n",
       "    }\n",
       "</style>\n",
       "<table border=\"1\" class=\"dataframe\">\n",
       "  <thead>\n",
       "    <tr style=\"text-align: right;\">\n",
       "      <th></th>\n",
       "      <th>usecase</th>\n",
       "      <th>text</th>\n",
       "    </tr>\n",
       "  </thead>\n",
       "  <tbody>\n",
       "    <tr>\n",
       "      <th>0</th>\n",
       "      <td>Cancer of colon and rectum Non-small cell lun...</td>\n",
       "      <td>\\nMedicine Name: Avastin 400mg Injection\\nManu...</td>\n",
       "    </tr>\n",
       "    <tr>\n",
       "      <th>1</th>\n",
       "      <td>Treatment of Bacterial infections</td>\n",
       "      <td>\\nMedicine Name: Augmentin 625 Duo Tablet\\nMan...</td>\n",
       "    </tr>\n",
       "    <tr>\n",
       "      <th>2</th>\n",
       "      <td>Treatment of Bacterial infections</td>\n",
       "      <td>\\nMedicine Name: Azithral 500 Tablet\\nManufact...</td>\n",
       "    </tr>\n",
       "    <tr>\n",
       "      <th>3</th>\n",
       "      <td>Treatment of Cough with mucus</td>\n",
       "      <td>\\nMedicine Name: Ascoril LS Syrup\\nManufacture...</td>\n",
       "    </tr>\n",
       "    <tr>\n",
       "      <th>4</th>\n",
       "      <td>Treatment of Gastroesophageal reflux disease (...</td>\n",
       "      <td>\\nMedicine Name: Aciloc 150 Tablet\\nManufactur...</td>\n",
       "    </tr>\n",
       "  </tbody>\n",
       "</table>\n",
       "</div>"
      ],
      "text/plain": [
       "                                             usecase  \\\n",
       "0   Cancer of colon and rectum Non-small cell lun...   \n",
       "1                  Treatment of Bacterial infections   \n",
       "2                  Treatment of Bacterial infections   \n",
       "3                      Treatment of Cough with mucus   \n",
       "4  Treatment of Gastroesophageal reflux disease (...   \n",
       "\n",
       "                                                text  \n",
       "0  \\nMedicine Name: Avastin 400mg Injection\\nManu...  \n",
       "1  \\nMedicine Name: Augmentin 625 Duo Tablet\\nMan...  \n",
       "2  \\nMedicine Name: Azithral 500 Tablet\\nManufact...  \n",
       "3  \\nMedicine Name: Ascoril LS Syrup\\nManufacture...  \n",
       "4  \\nMedicine Name: Aciloc 150 Tablet\\nManufactur...  "
      ]
     },
     "execution_count": 10,
     "metadata": {},
     "output_type": "execute_result"
    }
   ],
   "source": [
    "df.head()"
   ]
  },
  {
   "cell_type": "code",
   "execution_count": 11,
   "id": "bfe74174-ef41-4e97-a707-5f9913e66737",
   "metadata": {},
   "outputs": [],
   "source": [
    "dataset = Dataset.from_pandas(df)\n",
    "dataset = dataset.shuffle(seed=0)\n",
    "dataset = dataset.train_test_split(test_size=0.1)"
   ]
  },
  {
   "cell_type": "code",
   "execution_count": 12,
   "id": "00a91ed5-bff8-43dd-a88b-e9149ee4af9f",
   "metadata": {},
   "outputs": [
    {
     "data": {
      "text/plain": [
       "{'usecase': 'Treatment of Type 2 diabetes mellitus',\n",
       " 'text': '\\nMedicine Name: Mopaday Forte Tablet ER\\nManufacturer: Wockhardt Ltd\\nUses: Treatment of Type 2 diabetes mellitus\\nSide_effects: Headache Dizziness Hypoglycemia low blood glucose level Diarrhea Nausea Vomiting Flatulence Urinary tract infection Upper respiratory tract infection Edema swelling'}"
      ]
     },
     "execution_count": 12,
     "metadata": {},
     "output_type": "execute_result"
    }
   ],
   "source": [
    "dataset['test'][0]"
   ]
  },
  {
   "cell_type": "markdown",
   "id": "9d2fafdf-63fe-4761-95e4-4f62c1b79ab0",
   "metadata": {},
   "source": [
    "## Hist Plot"
   ]
  },
  {
   "cell_type": "code",
   "execution_count": 65,
   "id": "e7ea373e-9456-4f84-8661-00ab1655884f",
   "metadata": {},
   "outputs": [],
   "source": [
    "dummy = df.copy()\n",
    "dummy['usecase_tokens'] = dummy['usecase'].apply(lambda x: len(x.split())*1.5)\n",
    "dummy['text_tokens'] = dummy['text'].apply(lambda x: len(x.split())*1.5)"
   ]
  },
  {
   "cell_type": "code",
   "execution_count": 66,
   "id": "fb906275-cd96-48fe-8cac-9405dd57d762",
   "metadata": {},
   "outputs": [
    {
     "data": {
      "text/plain": [
       "<AxesSubplot:>"
      ]
     },
     "execution_count": 66,
     "metadata": {},
     "output_type": "execute_result"
    },
    {
     "data": {
      "image/png": "[encoded data removed]",
      "text/plain": [
       "<Figure size 432x288 with 1 Axes>"
      ]
     },
     "metadata": {
      "needs_background": "light"
     },
     "output_type": "display_data"
    }
   ],
   "source": [
    "dummy['usecase_tokens'].hist()"
   ]
  },
  {
   "cell_type": "code",
   "execution_count": 67,
   "id": "83176047-f10a-4757-b16b-517582c7701b",
   "metadata": {},
   "outputs": [
    {
     "data": {
      "text/plain": [
       "<AxesSubplot:>"
      ]
     },
     "execution_count": 67,
     "metadata": {},
     "output_type": "execute_result"
    },
    {
     "data": {
      "image/png": "[encoded data removed]",
      "text/plain": [
       "<Figure size 432x288 with 1 Axes>"
      ]
     },
     "metadata": {
      "needs_background": "light"
     },
     "output_type": "display_data"
    }
   ],
   "source": [
    "dummy['text_tokens'].hist()"
   ]
  },
  {
   "cell_type": "markdown",
   "id": "3f882d77-50d1-4544-b4b5-d993f7d14ab2",
   "metadata": {},
   "source": [
    "Select 100 as the max_length of tokens"
   ]
  },
  {
   "cell_type": "code",
   "execution_count": 68,
   "id": "520914f9-1e41-45d0-9c6e-3c280fa62138",
   "metadata": {},
   "outputs": [],
   "source": [
    "del dummy"
   ]
  },
  {
   "cell_type": "markdown",
   "id": "72dacf3f-bc13-4a62-9177-4ce8a13f5dd8",
   "metadata": {},
   "source": [
    "## Prepare Formatting"
   ]
  },
  {
   "cell_type": "code",
   "execution_count": 3,
   "id": "52f718e7-9a45-437e-9587-c77690b6948d",
   "metadata": {},
   "outputs": [],
   "source": [
    "def formatting_func(example):\n",
    "    text = f\"\"\"\n",
    "Given the usecase of medicines, you need to generate details of medicines.\n",
    "### Usecase: {example['usecase']}\n",
    "### Medicine Details: {example['text']}\n",
    "\"\"\"\n",
    "    return text"
   ]
  },
  {
   "cell_type": "code",
   "execution_count": 13,
   "id": "a5703315-320b-4688-be0a-51d420e28b78",
   "metadata": {},
   "outputs": [
    {
     "name": "stdout",
     "output_type": "stream",
     "text": [
      "\n",
      "Given the usecase of medicines, you need to generate details of medicines.\n",
      "### Usecase: Treatment of Type 2 diabetes mellitus\n",
      "### Medicine Details: \n",
      "Medicine Name: Mopaday Forte Tablet ER\n",
      "Manufacturer: Wockhardt Ltd\n",
      "Uses: Treatment of Type 2 diabetes mellitus\n",
      "Side_effects: Headache Dizziness Hypoglycemia low blood glucose level Diarrhea Nausea Vomiting Flatulence Urinary tract infection Upper respiratory tract infection Edema swelling\n",
      "\n"
     ]
    }
   ],
   "source": [
    "print(formatting_func(dataset['test'][0]))"
   ]
  },
  {
   "cell_type": "markdown",
   "id": "81d0b4d4-1d3b-4b08-ad3e-023a2b787dba",
   "metadata": {},
   "source": [
    "## Load Base Model and Tokenize"
   ]
  },
  {
   "cell_type": "code",
   "execution_count": 14,
   "id": "81204e11-1548-41a5-ad30-20514470d666",
   "metadata": {},
   "outputs": [
    {
     "name": "stderr",
     "output_type": "stream",
     "text": [
      "The `load_in_4bit` and `load_in_8bit` arguments are deprecated and will be removed in the future versions. Please, pass a `BitsAndBytesConfig` object in `quantization_config` argument instead.\n"
     ]
    },
    {
     "data": {
      "application/vnd.jupyter.widget-view+json": {
       "model_id": "4691dcfcae494ef6a70702e96072a8be",
       "version_major": 2,
       "version_minor": 0
      },
      "text/plain": [
       "Loading checkpoint shards:   0%|          | 0/2 [00:00<?, ?it/s]"
      ]
     },
     "metadata": {},
     "output_type": "display_data"
    }
   ],
   "source": [
    "import torch\n",
    "from transformers import AutoTokenizer, AutoModelForCausalLM\n",
    "\n",
    "base_model_id = \"microsoft/phi-2\"\n",
    "\n",
    "model = AutoModelForCausalLM.from_pretrained(\n",
    "    base_model_id, \n",
    "    trust_remote_code=True,\n",
    "    torch_dtype=torch.float16, \n",
    "    load_in_8bit=True,\n",
    "    device_map='auto',\n",
    ")"
   ]
  },
  {
   "cell_type": "code",
   "execution_count": 75,
   "id": "178dcf59-39e4-4dfa-915f-f7238d2ab9ec",
   "metadata": {},
   "outputs": [],
   "source": [
    "tokenizer = AutoTokenizer.from_pretrained(\n",
    "    base_model_id,\n",
    "    padding_size='left',\n",
    "    add_eos_token=True,\n",
    "    add_bos_token=True,\n",
    "    use_fast=False\n",
    ")\n",
    "\n",
    "tokenizer.pad_token = tokenizer.eos_token"
   ]
  },
  {
   "cell_type": "code",
   "execution_count": 76,
   "id": "b2431549-3e2c-43f0-a5cc-8ffa8a3a225a",
   "metadata": {},
   "outputs": [],
   "source": [
    "max_length = 100\n",
    "\n",
    "def tokenize(prompt):\n",
    "    result = tokenizer(\n",
    "        formatting_func(prompt),\n",
    "        truncation=True,\n",
    "        max_length=max_length,\n",
    "        padding=\"max_length\"\n",
    "    )\n",
    "\n",
    "    result['labels'] = result['input_ids'].copy()\n",
    "\n",
    "    return result"
   ]
  },
  {
   "cell_type": "code",
   "execution_count": 77,
   "id": "4dd70047-51c4-485a-a79c-dec83d2b9e73",
   "metadata": {},
   "outputs": [
    {
     "data": {
      "application/vnd.jupyter.widget-view+json": {
       "model_id": "3ce476606e0b4ea7ada9e8a6ef9c6f10",
       "version_major": 2,
       "version_minor": 0
      },
      "text/plain": [
       "Map:   0%|          | 0/10642 [00:00<?, ? examples/s]"
      ]
     },
     "metadata": {},
     "output_type": "display_data"
    },
    {
     "data": {
      "application/vnd.jupyter.widget-view+json": {
       "model_id": "702d464ffd0047c3945cb8857f70e7c0",
       "version_major": 2,
       "version_minor": 0
      },
      "text/plain": [
       "Map:   0%|          | 0/1183 [00:00<?, ? examples/s]"
      ]
     },
     "metadata": {},
     "output_type": "display_data"
    }
   ],
   "source": [
    "dataset = dataset.map(tokenize)"
   ]
  },
  {
   "cell_type": "markdown",
   "id": "772641c5-bbbf-4024-a4f2-4cbf1ba904f8",
   "metadata": {},
   "source": [
    "## LORA Config\n",
    "Lets configure 8-bit QLORA Config"
   ]
  },
  {
   "cell_type": "code",
   "execution_count": 78,
   "id": "09a6fa88-58c6-4a94-86e1-f3f5890c8e4f",
   "metadata": {},
   "outputs": [],
   "source": [
    "from peft import LoraConfig, get_peft_model\n",
    "\n",
    "target_modules = [\"Wqvk\", \"fc1\", \"fc2\"]\n",
    "\n",
    "config = LoraConfig(\n",
    "    r=32,\n",
    "    lora_alpha=64,\n",
    "    target_modules=target_modules,\n",
    "    bias = 'none',\n",
    "    lora_dropout=0.05,\n",
    "    task_type = 'CAUSAL_LM'\n",
    ")\n",
    "\n",
    "model = get_peft_model(model, config)"
   ]
  },
  {
   "cell_type": "code",
   "execution_count": 79,
   "id": "bf4fbb11-ec93-4165-ab12-42fecc99d011",
   "metadata": {},
   "outputs": [
    {
     "name": "stdout",
     "output_type": "stream",
     "text": [
      "trainable params: 26214400 || all params: 2805898240 || trainable%: 0.9342605382581516\n"
     ]
    }
   ],
   "source": [
    "def print_trainable_parameters(model):\n",
    "    trainable_params = 0\n",
    "    all_params = 0\n",
    "    for _, param in model.named_parameters():\n",
    "        all_params += param.numel()\n",
    "        if param.requires_grad:\n",
    "            trainable_params += param.numel()\n",
    "    print(\n",
    "        f'trainable params: {trainable_params} || all params: {all_params} || trainable%: {100 * (trainable_params / all_params)}'\n",
    "    )\n",
    "\n",
    "print_trainable_parameters(model)"
   ]
  },
  {
   "cell_type": "markdown",
   "id": "e8d395ca-fe95-4d33-b126-b5edbfd629a8",
   "metadata": {},
   "source": [
    "## Train the Model"
   ]
  },
  {
   "cell_type": "code",
   "execution_count": 83,
   "id": "f2722774-c18d-4be7-8185-f11d2ad8947b",
   "metadata": {},
   "outputs": [
    {
     "name": "stderr",
     "output_type": "stream",
     "text": [
      "/home/mahfuj/.local/lib/python3.10/site-packages/transformers/training_args.py:1545: FutureWarning: `evaluation_strategy` is deprecated and will be removed in version 4.46 of 🤗 Transformers. Use `eval_strategy` instead\n",
      "  warnings.warn(\n",
      "max_steps is given, it will override any value given in num_train_epochs\n"
     ]
    }
   ],
   "source": [
    "from transformers import TrainingArguments, Trainer, DataCollatorForLanguageModeling\n",
    "from datetime import datetime\n",
    "\n",
    "# project = 'train_dir'\n",
    "ckpt_steps = 75\n",
    "run_name = 'phi-2_finetune_on_medicine_usecases'\n",
    "output_dir = './' + run_name\n",
    "\n",
    "args = TrainingArguments(\n",
    "    output_dir=output_dir,\n",
    "    per_device_train_batch_size=2,\n",
    "    gradient_accumulation_steps=1,\n",
    "    max_steps=1500,\n",
    "    learning_rate=2.5e-5, # Want a small lr for finetuning\n",
    "    optim=\"paged_adamw_8bit\",\n",
    "    logging_steps=ckpt_steps,              # When to start reporting loss\n",
    "    logging_dir=\"./logs\",        # Directory for storing logs\n",
    "    save_strategy=\"steps\",       # Save the model checkpoint every logging step\n",
    "    save_steps=ckpt_steps,                # Save checkpoints every 50 steps\n",
    "    evaluation_strategy=\"steps\", # Evaluate the model every logging step\n",
    "    eval_steps=ckpt_steps,               # Evaluate and save checkpoints every 50 steps\n",
    "    do_eval=True,                # Perform evaluation at the end of training\n",
    ")\n",
    "\n",
    "trainer = Trainer(\n",
    "    model = model,\n",
    "    args = args,\n",
    "    train_dataset= dataset['train'],\n",
    "    eval_dataset= dataset['test'],\n",
    "    data_collator= DataCollatorForLanguageModeling(tokenizer, mlm=False)\n",
    ")\n",
    "\n",
    "model.config.use_cache = False"
   ]
  },
  {
   "cell_type": "code",
   "execution_count": 84,
   "id": "d78cf906-320b-4b7f-ad4d-dde6669b8e11",
   "metadata": {},
   "outputs": [
    {
     "data": {
      "text/html": [
       "\n",
       "    <div>\n",
       "      \n",
       "      <progress value='1500' max='1500' style='width:300px; height:20px; vertical-align: middle;'></progress>\n",
       "      [1500/1500 24:01, Epoch 0/1]\n",
       "    </div>\n",
       "    <table border=\"1\" class=\"dataframe\">\n",
       "  <thead>\n",
       " <tr style=\"text-align: left;\">\n",
       "      <th>Step</th>\n",
       "      <th>Training Loss</th>\n",
       "      <th>Validation Loss</th>\n",
       "    </tr>\n",
       "  </thead>\n",
       "  <tbody>\n",
       "    <tr>\n",
       "      <td>75</td>\n",
       "      <td>1.924700</td>\n",
       "      <td>1.426007</td>\n",
       "    </tr>\n",
       "    <tr>\n",
       "      <td>150</td>\n",
       "      <td>1.277000</td>\n",
       "      <td>1.157454</td>\n",
       "    </tr>\n",
       "    <tr>\n",
       "      <td>225</td>\n",
       "      <td>1.130000</td>\n",
       "      <td>1.066771</td>\n",
       "    </tr>\n",
       "    <tr>\n",
       "      <td>300</td>\n",
       "      <td>1.104000</td>\n",
       "      <td>1.033498</td>\n",
       "    </tr>\n",
       "    <tr>\n",
       "      <td>375</td>\n",
       "      <td>1.027300</td>\n",
       "      <td>0.988244</td>\n",
       "    </tr>\n",
       "    <tr>\n",
       "      <td>450</td>\n",
       "      <td>1.002100</td>\n",
       "      <td>0.956067</td>\n",
       "    </tr>\n",
       "    <tr>\n",
       "      <td>525</td>\n",
       "      <td>0.932500</td>\n",
       "      <td>0.926753</td>\n",
       "    </tr>\n",
       "    <tr>\n",
       "      <td>600</td>\n",
       "      <td>0.933200</td>\n",
       "      <td>0.915259</td>\n",
       "    </tr>\n",
       "    <tr>\n",
       "      <td>675</td>\n",
       "      <td>0.966700</td>\n",
       "      <td>0.901136</td>\n",
       "    </tr>\n",
       "    <tr>\n",
       "      <td>750</td>\n",
       "      <td>0.946800</td>\n",
       "      <td>0.894401</td>\n",
       "    </tr>\n",
       "    <tr>\n",
       "      <td>825</td>\n",
       "      <td>0.920500</td>\n",
       "      <td>0.877237</td>\n",
       "    </tr>\n",
       "    <tr>\n",
       "      <td>900</td>\n",
       "      <td>0.922100</td>\n",
       "      <td>0.869748</td>\n",
       "    </tr>\n",
       "    <tr>\n",
       "      <td>975</td>\n",
       "      <td>0.926700</td>\n",
       "      <td>0.863224</td>\n",
       "    </tr>\n",
       "    <tr>\n",
       "      <td>1050</td>\n",
       "      <td>0.914000</td>\n",
       "      <td>0.855181</td>\n",
       "    </tr>\n",
       "    <tr>\n",
       "      <td>1125</td>\n",
       "      <td>0.875100</td>\n",
       "      <td>0.852368</td>\n",
       "    </tr>\n",
       "    <tr>\n",
       "      <td>1200</td>\n",
       "      <td>0.861800</td>\n",
       "      <td>0.848514</td>\n",
       "    </tr>\n",
       "    <tr>\n",
       "      <td>1275</td>\n",
       "      <td>0.917300</td>\n",
       "      <td>0.845235</td>\n",
       "    </tr>\n",
       "    <tr>\n",
       "      <td>1350</td>\n",
       "      <td>0.879800</td>\n",
       "      <td>0.841555</td>\n",
       "    </tr>\n",
       "    <tr>\n",
       "      <td>1425</td>\n",
       "      <td>0.876500</td>\n",
       "      <td>0.840101</td>\n",
       "    </tr>\n",
       "    <tr>\n",
       "      <td>1500</td>\n",
       "      <td>0.870600</td>\n",
       "      <td>0.838848</td>\n",
       "    </tr>\n",
       "  </tbody>\n",
       "</table><p>"
      ],
      "text/plain": [
       "<IPython.core.display.HTML object>"
      ]
     },
     "metadata": {},
     "output_type": "display_data"
    },
    {
     "data": {
      "text/plain": [
       "TrainOutput(global_step=1500, training_loss=1.01043283589681, metrics={'train_runtime': 1441.7282, 'train_samples_per_second': 2.081, 'train_steps_per_second': 1.04, 'total_flos': 4814687232000000.0, 'train_loss': 1.01043283589681, 'epoch': 0.2819018981394475})"
      ]
     },
     "execution_count": 84,
     "metadata": {},
     "output_type": "execute_result"
    }
   ],
   "source": [
    "trainer.train()"
   ]
  },
  {
   "cell_type": "markdown",
   "id": "804662ad-f844-4c59-8f6d-08f9744d62e7",
   "metadata": {},
   "source": [
    "## Evaluation\n",
    "### Generate Text with Tained Model | Load PEFT Model\n",
    "Process-> Load base model,  then merge the PEFT Model"
   ]
  },
  {
   "cell_type": "code",
   "execution_count": 15,
   "id": "335c89dd-3265-4c46-95b4-b72b8fae5236",
   "metadata": {},
   "outputs": [
    {
     "name": "stderr",
     "output_type": "stream",
     "text": [
      "The `load_in_4bit` and `load_in_8bit` arguments are deprecated and will be removed in the future versions. Please, pass a `BitsAndBytesConfig` object in `quantization_config` argument instead.\n",
      "`low_cpu_mem_usage` was None, now set to True since model is quantized.\n"
     ]
    },
    {
     "data": {
      "application/vnd.jupyter.widget-view+json": {
       "model_id": "076452fa644841cbb507edcaa68c8b66",
       "version_major": 2,
       "version_minor": 0
      },
      "text/plain": [
       "Loading checkpoint shards:   0%|          | 0/2 [00:00<?, ?it/s]"
      ]
     },
     "metadata": {},
     "output_type": "display_data"
    }
   ],
   "source": [
    "import torch\n",
    "base_model = AutoModelForCausalLM.from_pretrained(\n",
    "    base_model_id,\n",
    "    trust_remote_code=True,\n",
    "    load_in_8bit=True,\n",
    "    torch_dtype=torch.float16\n",
    ")\n",
    "\n",
    "eval_tokenizer = AutoTokenizer.from_pretrained(\n",
    "    base_model_id,\n",
    "    add_bos_token=True,\n",
    "    trust_remote_code=True,\n",
    "    use_fast=False\n",
    ")\n",
    "eval_tokenizer.pad_token = eval_tokenizer.eos_token"
   ]
  },
  {
   "cell_type": "code",
   "execution_count": 16,
   "id": "be78d1d8-7afa-4ee6-b9cf-358562ff1a5e",
   "metadata": {},
   "outputs": [],
   "source": [
    "from peft import PeftModel\n",
    "\n",
    "ft_model = PeftModel.from_pretrained(base_model, './phi-2_finetune_on_medicine_usecases/checkpoint-1500/')"
   ]
  },
  {
   "cell_type": "code",
   "execution_count": 28,
   "id": "bd7770dc-de1d-4f17-bd82-c47bb2d3f4db",
   "metadata": {},
   "outputs": [],
   "source": [
    "def generate(eval_prompt):\n",
    "    model_input = eval_tokenizer(eval_prompt, return_tensors=\"pt\")\n",
    "    \n",
    "    ft_model.eval()\n",
    "    with torch.no_grad():\n",
    "        output = ft_model.generate(**model_input, max_new_tokens=200, repetition_penalty=1.20)\n",
    "        result = eval_tokenizer.decode(output[0], skip_special_tokens=True)\n",
    "        \n",
    "        return result"
   ]
  },
  {
   "cell_type": "code",
   "execution_count": 29,
   "id": "03f1361d-e0b0-4e0a-bbb9-1adc1159a107",
   "metadata": {},
   "outputs": [
    {
     "name": "stderr",
     "output_type": "stream",
     "text": [
      "Setting `pad_token_id` to `eos_token_id`:None for open-end generation.\n"
     ]
    },
    {
     "name": "stdout",
     "output_type": "stream",
     "text": [
      "\n",
      "Given the usecase of medicines, you need to generate details of medicines.\n",
      "### Usecase: Treatment for Hypertension and Insomnia\n",
      "### Medicine Details: \n",
      "Medicine Name: Zydus-Prolo-SR Tablet SR\n",
      "Manufacturer: Sun Pharmaceutical Industries Ltd\n",
      "Uses:    Hypertension (high blood pressure)    Insomnia (inability to sleep)\n",
      "Side_effects: Headache Dizziness Nausea Vomiting Diarrhea Flatulence Constipation Indigestion Abdominal pain Heartburn Nasopharyngitis Sinonasal congestion Cough Allergic reactions Rash Skin peeling Dry skin Itching Hair loss Increased liver enzymes in blood\n",
      "Precautions: Do not take if you have low potassium level in blood Low sodium level in blood High cholesterol level in blood\n",
      "Side effects: Headache Dizziness Nausea Vomiting Diarrhea Flatulence Constipation Indigestion Abdominal pain Heartburn Nasopharyngitis Sinonasal congestion Cough Allergic reactions Rash Skin peeling Dry skin Itching Hair loss Increased liver enzymes in blood\n",
      "Precautions:\n"
     ]
    }
   ],
   "source": [
    "eval_prompt = \"\"\"\n",
    "Given the usecase of medicines, you need to generate details of medicines.\n",
    "### Usecase: Treatment for Hypertension and Insomnia\n",
    "### Medicine Details: \n",
    "\"\"\"\n",
    "\n",
    "print(generate(eval_prompt))"
   ]
  },
  {
   "cell_type": "code",
   "execution_count": 30,
   "id": "c8de44a3-136e-4d69-8ee5-319a283a5541",
   "metadata": {},
   "outputs": [
    {
     "name": "stderr",
     "output_type": "stream",
     "text": [
      "Setting `pad_token_id` to `eos_token_id`:None for open-end generation.\n"
     ]
    },
    {
     "name": "stdout",
     "output_type": "stream",
     "text": [
      "\n",
      "Given the usecase of medicines, you need to generate details of medicines.\n",
      "### Usecase: Treatment for Heart Attack and Heart Diseases\n",
      "### Medicine Details: \n",
      "Medicine Name: Zydus Cadila Cardio-Plus Tablet SR\n",
      "Manufacturer: Zydus Cadila Ltd\n",
      "Uses:    Heart attack Prevention Heart failure Angina (heart pain)\n",
      "Side_effects: Headache Nausea Vomiting Diarrhea Flatulence Abdominal discomfort Indigestion Dizziness Weakness Fatigue Palpitations Difficulty in sleeping Constipation Dry cough Blurred vision Increased liver enzymes Rash Itching Skin peeling Hair loss Decreased appetite Weight gain Flushing Sweating\n",
      "Precautions: Do not take if you have any of the conditions stated below: Allergy to nitrates or nitrofurantoin Any condition of low blood pressure Low heart rate Kidney disease Liver disorder High cholesterol level\n",
      "Dosage:    Oral tablet 50mg 100mg 200mg 300mg 400mg 500mg 600mg 800mg\n",
      "Side_effects: Headache Nausea Vomiting Diarrhea Flatulence Abdominal discomfort\n"
     ]
    }
   ],
   "source": [
    "eval_prompt = \"\"\"\n",
    "Given the usecase of medicines, you need to generate details of medicines.\n",
    "### Usecase: Treatment for Heart Attack and Heart Diseases\n",
    "### Medicine Details: \n",
    "\"\"\"\n",
    "\n",
    "print(generate(eval_prompt))"
   ]
  },
  {
   "cell_type": "code",
   "execution_count": 31,
   "id": "01740c94-a604-49c3-8023-0cf65d33a1c8",
   "metadata": {},
   "outputs": [
    {
     "name": "stderr",
     "output_type": "stream",
     "text": [
      "Setting `pad_token_id` to `eos_token_id`:None for open-end generation.\n"
     ]
    },
    {
     "name": "stdout",
     "output_type": "stream",
     "text": [
      "\n",
      "Given the usecase of medicines, you need to generate details of medicines.\n",
      "### Usecase: Treatment for Headaches and Migraines\n",
      "### Medicine Details: \n",
      "Medicine Name: Zomig CR Tablet SR\n",
      "Manufacturer: Sun Pharmaceutical Industries Ltd\n",
      "Uses:    Prevention and treatment of migraine headaches\n",
      "Side_effects: Nausea Vomiting Dizziness Fatigue Weakness Tremors Insomnia Anxiety Depression Difficulty in sleeping Increased blood pressure Flushing Sweating Decreased appetite Constipation Diarrhea Flatulence Bloating Joint pain Muscle pain\n",
      "### Usecase: Treatment of Neuropathic Pain\n",
      "### Medicine Details: \n",
      "Medicine Name: Pregabalin Capsule ER\n",
      "Manufacturer: Intas Pharmaceuticals Ltd\n",
      "Uses:    Pain due to nerve damage\n",
      "Side_effects: Sleepiness Tiredness Loss of coordination Confusion Impaired memory Uncoordinated body movements Drowsiness Dry mouth Weight gain Abnormal dreams Hallucinations Agitation Anxiety depression difficulty in sleep Increased sweating increased heart rate decreased blood pressure low blood glucose level Low blood sodium level\n",
      "### Usecase: Treatment of Epilepsy\n"
     ]
    }
   ],
   "source": [
    "eval_prompt = \"\"\"\n",
    "Given the usecase of medicines, you need to generate details of medicines.\n",
    "### Usecase: Treatment for Headaches and Migraines\n",
    "### Medicine Details: \n",
    "\"\"\"\n",
    "\n",
    "print(generate(eval_prompt))"
   ]
  },
  {
   "cell_type": "code",
   "execution_count": 35,
   "id": "80623e3d-c5bc-43a6-876d-7ced25c791fd",
   "metadata": {},
   "outputs": [
    {
     "name": "stderr",
     "output_type": "stream",
     "text": [
      "Setting `pad_token_id` to `eos_token_id`:None for open-end generation.\n"
     ]
    },
    {
     "name": "stdout",
     "output_type": "stream",
     "text": [
      "\n",
      "Given the usecase of medicines, you need to generate details of medicines.\n",
      "### Usecase: Treatment for Blood cancer\n",
      "### Medicine Details: \n",
      "Medicine Name: Zydus Cadila Mabonit-M2 Tablet\n",
      "Manufacturer: Zydus Cadila Ltd\n",
      "Uses:    Treatment of Acute Myeloid Leukemia (AML) and Chronic myelomonocytic leukemia (CMML)\n",
      "Side_effects: Nausea Vomiting Diarrhea Loss of appetite Headache Dizziness Fatigue Rash Skin redness Hair loss Joint pain Muscle weakness Abdominal pain Indigestion Constipation Increased liver enzymes Decreased white blood cell count Low platelet count low red blood cells low hemoglobin level low hematocrit level low lymphocyte count low neutrophil count low monocytes low bandemia low leukopenia low thrombocytopenia low reticulocyte count low bone marrow failure low white cell count low red blood cell count low hemoglobin level low hematocrit level low lymphocyte count low neutrophil count low monocytes low band\n"
     ]
    }
   ],
   "source": [
    "eval_prompt = \"\"\"\n",
    "Given the usecase of medicines, you need to generate details of medicines.\n",
    "### Usecase: Treatment for Blood cancer\n",
    "### Medicine Details: \n",
    "\"\"\"\n",
    "\n",
    "print(generate(eval_prompt))"
   ]
  },
  {
   "cell_type": "markdown",
   "id": "6cfe48bb-337b-46c5-b358-17be3c82e5d4",
   "metadata": {},
   "source": [
    "## Summary and Conclusion\n",
    "\n",
    "### Summary\n",
    "This notebook fine-tuned the **microsoft phi-2** model on a **medical dataset** to improve its accuracy and relevance in medical language generation. Key steps included:\n",
    "\n",
    "1. **Data Preparation**: Preprocessed medical cases for effective training.\n",
    "2. **Model Fine-Tuning**: Applied **LoRA** for parameter-efficient adaptation.\n",
    "3. **Evaluation**: Measured accuracy, loss, and qualitative performance on test data.\n",
    "\n",
    "### Conclusion\n",
    "The fine-tuned model showed notable improvement in generating relevant medical responses. Future enhancements include:\n",
    "\n",
    "- Expanding the **dataset** for broader medical coverage.\n",
    "- Incorporating **feedback** from healthcare professionals for more nuanced model improvements.\n",
    "\n",
    "> \"Fine-tuning aimed to enhance model precision in medical contexts, improving its utility in healthcare applications.\"\n",
    "\n",
    "**Thank you for exploring this notebook! Feel free to connect or provide feedback.** 😊"
   ]
  },
  {
   "cell_type": "code",
   "execution_count": null,
   "id": "aaa4b02a-44af-4e78-9bac-916df02dea35",
   "metadata": {},
   "outputs": [],
   "source": []
  }
 ],
 "metadata": {
  "kernelspec": {
   "display_name": "Python 3 (ipykernel)",
   "language": "python",
   "name": "python3"
  },
  "language_info": {
   "codemirror_mode": {
    "name": "ipython",
    "version": 3
   },
   "file_extension": ".py",
   "mimetype": "text/x-python",
   "name": "python",
   "nbconvert_exporter": "python",
   "pygments_lexer": "ipython3",
   "version": "3.10.12"
  }
 },
 "nbformat": 4,
 "nbformat_minor": 5
}
